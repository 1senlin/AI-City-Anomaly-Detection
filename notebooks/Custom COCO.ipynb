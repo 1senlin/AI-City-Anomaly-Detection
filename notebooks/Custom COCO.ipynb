{
 "cells": [
  {
   "cell_type": "code",
   "execution_count": 268,
   "metadata": {},
   "outputs": [],
   "source": [
    "import xml.etree.ElementTree as ET\n",
    "import os\n",
    "import pandas as pd\n",
    "import json\n",
    "import pycocotools.coco as pycoco\n",
    "import mmdet\n",
    "from mmdet.datasets.registry import DATASETS\n",
    "import numpy as np\n",
    "from pycocotools import mask, _mask\n",
    "import matplotlib.pyplot as plt\n",
    "%matplotlib inline\n",
    "from itertools import groupby\n",
    "import cv2 as cv\n",
    "import mmcv\n"
   ]
  },
  {
   "cell_type": "code",
   "execution_count": 6,
   "metadata": {},
   "outputs": [],
   "source": [
    "def print_recursive(root, i=0):\n",
    "    print(\" \"*i, root.tag, root.attrib)\n",
    "    \n",
    "    for child in root:\n",
    "        print_recursive(child, i+1)"
   ]
  },
  {
   "cell_type": "code",
   "execution_count": 120,
   "metadata": {},
   "outputs": [],
   "source": [
    "def binary_mask_to_rle(binary_mask):\n",
    "    rle = {'counts': [], 'size': list(binary_mask.shape)}\n",
    "    counts = rle.get('counts')\n",
    "    for i, (value, elements) in enumerate(groupby(binary_mask.ravel(order='F'))):\n",
    "        if i == 0 and value == 1:\n",
    "            counts.append(0)\n",
    "        counts.append(len(list(elements)))\n",
    "    return rle\n",
    "\n",
    "def bin_mask_to_poly(binary_mask):\n",
    "    contours, hierarchy = cv.findContours(binary_mask.astype(np.uint8), cv.RETR_TREE, cv.CHAIN_APPROX_SIMPLE)\n",
    "    \n",
    "    segmentation = []\n",
    "\n",
    "    for contour in contours:\n",
    "        contour = contour.flatten().tolist()\n",
    "        # segmentation.append(contour)\n",
    "        if len(contour) > 4:\n",
    "            segmentation.append(contour)\n",
    "            \n",
    "    return segmentation"
   ]
  },
  {
   "cell_type": "code",
   "execution_count": 56,
   "metadata": {},
   "outputs": [],
   "source": [
    "def bbox_to_mask(bbox, h, w):\n",
    "    x1, y1, bw, bh = map(int, bbox)\n",
    "    bin_mask = np.zeros((h, w), dtype=np.uint8)\n",
    "    bin_mask[y1:y1 + bh, x1:x1 + bw] = 1\n",
    "    return bin_mask"
   ]
  },
  {
   "cell_type": "code",
   "execution_count": 57,
   "metadata": {},
   "outputs": [],
   "source": [
    "def xml_to_df(xml_path):\n",
    "    \"\"\"\n",
    "    Parse UE-DETRAC annotations, turn them into a dataframe\n",
    "    \n",
    "    \"\"\"\n",
    "    \n",
    "    tree = ET.parse(xml_path)\n",
    "    \n",
    "    boxes = []\n",
    "    for child in tree.getroot():\n",
    "        if child.tag != \"frame\":\n",
    "            continue\n",
    "\n",
    "        frame = int(child.attrib[\"num\"])\n",
    "\n",
    "        for target in child.find(\"target_list\").findall(\"target\"):\n",
    "            box = target.find(\"box\")\n",
    "\n",
    "            x1 = float(box.attrib[\"left\"])\n",
    "            y1 = float(box.attrib[\"top\"])\n",
    "            x2 = x1 + float(box.attrib[\"width\"])\n",
    "            y2 = y1 + float(box.attrib[\"height\"])\n",
    "\n",
    "            boxes.append([frame, x1, y1, x2, y2])\n",
    "\n",
    "    df = pd.DataFrame(boxes, columns=[\"frame\", \"x1\", \"y1\", \"x2\", \"y2\"])\n",
    "    \n",
    "    return df"
   ]
  },
  {
   "cell_type": "code",
   "execution_count": 282,
   "metadata": {},
   "outputs": [],
   "source": [
    "def convert_xml(xml_path, images_folder, coco_json_path, img_shape=(540, 960)):\n",
    "    \"\"\"\n",
    "    Turns UA-DETRAC Dataset into COCO-format Dataset.\n",
    "    \n",
    "    \"\"\"\n",
    "    \n",
    "    \n",
    "    \n",
    "    df = xml_to_df(xml_path)\n",
    "    \n",
    "    df[\"w\"] = df[\"x2\"] - df[\"x1\"]\n",
    "    df[\"h\"] = df[\"y2\"] - df[\"y1\"]\n",
    "    \n",
    "    \n",
    "    coco = {\n",
    "        \"info\": {},\n",
    "        \"licenses\": [],\n",
    "        \"images\": [],\n",
    "        \"annotations\": [],\n",
    "        \"categories\": categories\n",
    "    }\n",
    "    \n",
    "    images_id_root = os.path.split(images_folder)[1].split(\"_\")[1] # \"/train/images/MVI_20011\" -> \"20011\"\n",
    "\n",
    "    frame_to_img = {}\n",
    "    for filename in sorted(os.listdir(images_folder)):\n",
    "        if not filename[-4:] == \".jpg\":\n",
    "            continue\n",
    "\n",
    "        img_id_str = filename[3:-4] # \"img00001.jpg\" -> \"00001\"\n",
    "        image_id = int(images_id_root + img_id_str)\n",
    "        frame_num = int(img_id_str)\n",
    "\n",
    "        frame_to_img[frame_num] = image_id\n",
    "        # Add image\n",
    "        coco[\"images\"].append({\n",
    "            \"file_name\": filename,\n",
    "            \"id\": image_id,\n",
    "            \"frame_num\": frame_num,\n",
    "            \"width\": img_shape[1],\n",
    "            \"height\": img_shape[0],\n",
    "        })\n",
    "        \n",
    "    \n",
    "\n",
    "        # Add annotations\n",
    "        for i, line in df[df.frame == frame_num].reset_index().iterrows():\n",
    "            bbox = list(map(int, [line[\"x1\"], line[\"y1\"], line[\"w\"], line[\"h\"]]))\n",
    "            bin_mask = bbox_to_mask(bbox, img_shape[0], img_shape[1])\n",
    "            \n",
    "            coco[\"annotations\"].append({\n",
    "                \"bbox\": bbox,\n",
    "                \"image_id\": image_id,\n",
    "                \"category_id\": 3, # todo: properly decide category\n",
    "                \"iscrowd\": 0,\n",
    "                \"area\": int(line[\"w\"] * line[\"h\"]),\n",
    "                \"id\": int(images_id_root + img_id_str + f\"{i:0>3}\"),\n",
    "#                 \"segmentation\": binary_mask_to_rle(bin_mask)\n",
    "                \"segmentation\": bin_mask_to_poly(bin_mask)\n",
    "\n",
    "            })\n",
    "            \n",
    "#             print(i, end=\"\")\n",
    "            \n",
    "#         print()\n",
    "        \n",
    "    \n",
    "    # todo\n",
    "    def create_annotations(frame, group):\n",
    "        for i, line in group.iterrows():\n",
    "            create_annotation(frame, i, *line)\n",
    "            \n",
    "        \n",
    "    def create_annotation(frame, i, x1, y1, x2, y2, w, h):\n",
    "        # todo: parallelise this to work with apply on dataframe\n",
    "        \n",
    "        \n",
    "        {\n",
    "            \"bbox\": [x1, y1, w, h],\n",
    "            \"image_id\": frame_to_img[frame],\n",
    "            \"category_id\": 3, # todo: properly decide category\n",
    "            \"iscrowd\": 0,\n",
    "            \"area\": w * h,\n",
    "            \"id\": int(images_id_root + img_id_str + f\"{i:0>3}\"),\n",
    "            \"segmentation\": binary_mask_to_rle(bin_mask)\n",
    "        }\n",
    "            \n",
    "    \n",
    "    with open(coco_json_path, \"w\") as f:\n",
    "        json.dump(coco, f)"
   ]
  },
  {
   "cell_type": "code",
   "execution_count": 284,
   "metadata": {},
   "outputs": [],
   "source": [
    "def convert_all(xml_folder, images_folder_folder, coco_json_folder):\n",
    "    for img_folder_name in sorted(os.listdir(images_folder_folder)):\n",
    "        # Set up paths\n",
    "        xml_path = os.path.join(xml_folder, f\"{img_folder_name}_v3.xml\")\n",
    "        images_folder = os.path.join(images_folder_folder, img_folder_name)\n",
    "        coco_json_path = os.path.join(coco_json_folder, f\"{img_folder_name}.json\")\n",
    "        \n",
    "        convert_xml(xml_path, images_folder, coco_json_path)\n",
    "        \n",
    "        print(\"Done:\", img_folder_name)"
   ]
  },
  {
   "cell_type": "code",
   "execution_count": 144,
   "metadata": {},
   "outputs": [],
   "source": [
    "def combine_all(images_folder_folder, coco_json_folder):\n",
    "    big_coco = {}\n",
    "    \n",
    "    for img_folder_name in sorted(os.listdir(images_folder_folder)):\n",
    "        # Set up paths\n",
    "        images_folder = os.path.join(images_folder_folder, img_folder_name)\n",
    "        coco_json_path = os.path.join(coco_json_folder, f\"{img_folder_name}.json\")\n",
    "        \n",
    "        with open(coco_json_path) as f:\n",
    "            coco = json.load(f)\n",
    "            \n",
    "        if \"categories\" not in big_coco: # initial info\n",
    "            big_coco[\"categories\"] = coco[\"categories\"]\n",
    "            big_coco[\"info\"] = coco[\"info\"]\n",
    "            big_coco[\"licenses\"] = coco[\"licenses\"]\n",
    "            big_coco[\"images\"] = []\n",
    "            big_coco[\"annotations\"] = []\n",
    "            \n",
    "            \n",
    "        for image in coco[\"images\"]:\n",
    "            image[\"file_name\"] = os.path.join(img_folder_name, image[\"file_name\"])\n",
    "            big_coco[\"images\"].append(image)\n",
    "            \n",
    "        big_coco[\"annotations\"] += coco[\"annotations\"]\n",
    "        \n",
    "        print(\"Added:\", img_folder_name)\n",
    "        \n",
    "    return big_coco"
   ]
  },
  {
   "cell_type": "code",
   "execution_count": 165,
   "metadata": {},
   "outputs": [],
   "source": [
    "def tvt_split(js, train=0.7, val=0.3):\n",
    "    \"\"\"\n",
    "    Splits annotations into (train, val, test) sets\n",
    "    \"\"\"\n",
    "    \n",
    "    \n",
    "    indices = np.arange(len(js[\"images\"]))\n",
    "    np.random.shuffle(indices)\n",
    "    \n",
    "    train_idx = indices[:int(train*len(indices))] # 0:train\n",
    "    val_idx = indices[int(train*len(indices)):int((train+val)*len(indices))] # train:val\n",
    "    test_idx = indices[int((train+val)*len(indices)):] # val:\n",
    "    \n",
    "    splits = []\n",
    "    for idx in (train_idx, val_idx, test_idx):\n",
    "        images = [js[\"images\"][i] for i in idx]\n",
    "        img_ids = set(img[\"id\"] for img in images)\n",
    "    \n",
    "        annotations = [ann for ann in js[\"annotations\"] if ann[\"image_id\"] in img_ids]\n",
    "        \n",
    "        splits.append({\n",
    "            \"info\": js[\"info\"],\n",
    "            \"licenses\": js[\"licenses\"],\n",
    "            \"categories\": js[\"categories\"],\n",
    "            \"images\": images,\n",
    "            \"annotations\": annotations\n",
    "        })\n",
    "        \n",
    "    return splits"
   ]
  },
  {
   "cell_type": "markdown",
   "metadata": {},
   "source": [
    "---"
   ]
  },
  {
   "cell_type": "code",
   "execution_count": 12,
   "metadata": {},
   "outputs": [],
   "source": [
    "# COCO Categories\n",
    "categories = [{\"supercategory\": \"person\",\"id\": 1,\"name\": \"person\"},{\"supercategory\": \"vehicle\",\"id\": 2,\"name\": \"bicycle\"},{\"supercategory\": \"vehicle\",\"id\": 3,\"name\": \"car\"},{\"supercategory\": \"vehicle\",\"id\": 4,\"name\": \"motorcycle\"},{\"supercategory\": \"vehicle\",\"id\": 5,\"name\": \"airplane\"},{\"supercategory\": \"vehicle\",\"id\": 6,\"name\": \"bus\"},{\"supercategory\": \"vehicle\",\"id\": 7,\"name\": \"train\"},{\"supercategory\": \"vehicle\",\"id\": 8,\"name\": \"truck\"},{\"supercategory\": \"vehicle\",\"id\": 9,\"name\": \"boat\"},{\"supercategory\": \"outdoor\",\"id\": 10,\"name\": \"traffic light\"},{\"supercategory\": \"outdoor\",\"id\": 11,\"name\": \"fire hydrant\"},{\"supercategory\": \"outdoor\",\"id\": 13,\"name\": \"stop sign\"},{\"supercategory\": \"outdoor\",\"id\": 14,\"name\": \"parking meter\"},{\"supercategory\": \"outdoor\",\"id\": 15,\"name\": \"bench\"},{\"supercategory\": \"animal\",\"id\": 16,\"name\": \"bird\"},{\"supercategory\": \"animal\",\"id\": 17,\"name\": \"cat\"},{\"supercategory\": \"animal\",\"id\": 18,\"name\": \"dog\"},{\"supercategory\": \"animal\",\"id\": 19,\"name\": \"horse\"},{\"supercategory\": \"animal\",\"id\": 20,\"name\": \"sheep\"},{\"supercategory\": \"animal\",\"id\": 21,\"name\": \"cow\"},{\"supercategory\": \"animal\",\"id\": 22,\"name\": \"elephant\"},{\"supercategory\": \"animal\",\"id\": 23,\"name\": \"bear\"},{\"supercategory\": \"animal\",\"id\": 24,\"name\": \"zebra\"},{\"supercategory\": \"animal\",\"id\": 25,\"name\": \"giraffe\"},{\"supercategory\": \"accessory\",\"id\": 27,\"name\": \"backpack\"},{\"supercategory\": \"accessory\",\"id\": 28,\"name\": \"umbrella\"},{\"supercategory\": \"accessory\",\"id\": 31,\"name\": \"handbag\"},{\"supercategory\": \"accessory\",\"id\": 32,\"name\": \"tie\"},{\"supercategory\": \"accessory\",\"id\": 33,\"name\": \"suitcase\"},{\"supercategory\": \"sports\",\"id\": 34,\"name\": \"frisbee\"},{\"supercategory\": \"sports\",\"id\": 35,\"name\": \"skis\"},{\"supercategory\": \"sports\",\"id\": 36,\"name\": \"snowboard\"},{\"supercategory\": \"sports\",\"id\": 37,\"name\": \"sports ball\"},{\"supercategory\": \"sports\",\"id\": 38,\"name\": \"kite\"},{\"supercategory\": \"sports\",\"id\": 39,\"name\": \"baseball bat\"},{\"supercategory\": \"sports\",\"id\": 40,\"name\": \"baseball glove\"},{\"supercategory\": \"sports\",\"id\": 41,\"name\": \"skateboard\"},{\"supercategory\": \"sports\",\"id\": 42,\"name\": \"surfboard\"},{\"supercategory\": \"sports\",\"id\": 43,\"name\": \"tennis racket\"},{\"supercategory\": \"kitchen\",\"id\": 44,\"name\": \"bottle\"},{\"supercategory\": \"kitchen\",\"id\": 46,\"name\": \"wine glass\"},{\"supercategory\": \"kitchen\",\"id\": 47,\"name\": \"cup\"},{\"supercategory\": \"kitchen\",\"id\": 48,\"name\": \"fork\"},{\"supercategory\": \"kitchen\",\"id\": 49,\"name\": \"knife\"},{\"supercategory\": \"kitchen\",\"id\": 50,\"name\": \"spoon\"},{\"supercategory\": \"kitchen\",\"id\": 51,\"name\": \"bowl\"},{\"supercategory\": \"food\",\"id\": 52,\"name\": \"banana\"},{\"supercategory\": \"food\",\"id\": 53,\"name\": \"apple\"},{\"supercategory\": \"food\",\"id\": 54,\"name\": \"sandwich\"},{\"supercategory\": \"food\",\"id\": 55,\"name\": \"orange\"},{\"supercategory\": \"food\",\"id\": 56,\"name\": \"broccoli\"},{\"supercategory\": \"food\",\"id\": 57,\"name\": \"carrot\"},{\"supercategory\": \"food\",\"id\": 58,\"name\": \"hot dog\"},{\"supercategory\": \"food\",\"id\": 59,\"name\": \"pizza\"},{\"supercategory\": \"food\",\"id\": 60,\"name\": \"donut\"},{\"supercategory\": \"food\",\"id\": 61,\"name\": \"cake\"},{\"supercategory\": \"furniture\",\"id\": 62,\"name\": \"chair\"},{\"supercategory\": \"furniture\",\"id\": 63,\"name\": \"couch\"},{\"supercategory\": \"furniture\",\"id\": 64,\"name\": \"potted plant\"},{\"supercategory\": \"furniture\",\"id\": 65,\"name\": \"bed\"},{\"supercategory\": \"furniture\",\"id\": 67,\"name\": \"dining table\"},{\"supercategory\": \"furniture\",\"id\": 70,\"name\": \"toilet\"},{\"supercategory\": \"electronic\",\"id\": 72,\"name\": \"tv\"},{\"supercategory\": \"electronic\",\"id\": 73,\"name\": \"laptop\"},{\"supercategory\": \"electronic\",\"id\": 74,\"name\": \"mouse\"},{\"supercategory\": \"electronic\",\"id\": 75,\"name\": \"remote\"},{\"supercategory\": \"electronic\",\"id\": 76,\"name\": \"keyboard\"},{\"supercategory\": \"electronic\",\"id\": 77,\"name\": \"cell phone\"},{\"supercategory\": \"appliance\",\"id\": 78,\"name\": \"microwave\"},{\"supercategory\": \"appliance\",\"id\": 79,\"name\": \"oven\"},{\"supercategory\": \"appliance\",\"id\": 80,\"name\": \"toaster\"},{\"supercategory\": \"appliance\",\"id\": 81,\"name\": \"sink\"},{\"supercategory\": \"appliance\",\"id\": 82,\"name\": \"refrigerator\"},{\"supercategory\": \"indoor\",\"id\": 84,\"name\": \"book\"},{\"supercategory\": \"indoor\",\"id\": 85,\"name\": \"clock\"},{\"supercategory\": \"indoor\",\"id\": 86,\"name\": \"vase\"},{\"supercategory\": \"indoor\",\"id\": 87,\"name\": \"scissors\"},{\"supercategory\": \"indoor\",\"id\": 88,\"name\": \"teddy bear\"},{\"supercategory\": \"indoor\",\"id\": 89,\"name\": \"hair drier\"},{\"supercategory\": \"indoor\",\"id\": 90,\"name\": \"toothbrush\"}]"
   ]
  },
  {
   "cell_type": "code",
   "execution_count": 13,
   "metadata": {},
   "outputs": [],
   "source": [
    "xml_folder = \"/data/data/UA_DETRAC/DETRAC-Train-Annotations-XML-v3\"\n",
    "images_folder_folder = \"/data/data/UA_DETRAC/train/images\"\n",
    "coco_json_folder = \"/data/data/UA_DETRAC/train/annotations/\""
   ]
  },
  {
   "cell_type": "code",
   "execution_count": 285,
   "metadata": {
    "scrolled": true
   },
   "outputs": [
    {
     "name": "stdout",
     "output_type": "stream",
     "text": [
      "Done: MVI_20011\n",
      "Done: MVI_20012\n",
      "Done: MVI_20032\n",
      "Done: MVI_20033\n",
      "Done: MVI_20034\n",
      "Done: MVI_20035\n",
      "Done: MVI_20051\n",
      "Done: MVI_20052\n",
      "Done: MVI_20061\n",
      "Done: MVI_20062\n",
      "Done: MVI_20063\n",
      "Done: MVI_20064\n",
      "Done: MVI_20065\n",
      "Done: MVI_39761\n",
      "Done: MVI_39771\n",
      "Done: MVI_39781\n",
      "Done: MVI_39801\n",
      "Done: MVI_39811\n",
      "Done: MVI_39821\n",
      "Done: MVI_39851\n",
      "Done: MVI_39861\n",
      "Done: MVI_39931\n",
      "Done: MVI_40131\n",
      "Done: MVI_40141\n",
      "Done: MVI_40152\n",
      "Done: MVI_40161\n",
      "Done: MVI_40162\n",
      "Done: MVI_40171\n",
      "Done: MVI_40172\n",
      "Done: MVI_40181\n",
      "Done: MVI_40191\n",
      "Done: MVI_40192\n",
      "Done: MVI_40201\n",
      "Done: MVI_40204\n",
      "Done: MVI_40211\n",
      "Done: MVI_40212\n",
      "Done: MVI_40213\n",
      "Done: MVI_40241\n",
      "Done: MVI_40243\n",
      "Done: MVI_40244\n",
      "Done: MVI_40732\n",
      "Done: MVI_40751\n",
      "Done: MVI_40752\n",
      "Done: MVI_40871\n",
      "Done: MVI_40962\n",
      "Done: MVI_40963\n",
      "Done: MVI_40981\n",
      "Done: MVI_40991\n",
      "Done: MVI_40992\n",
      "Done: MVI_41063\n",
      "Done: MVI_41073\n",
      "Done: MVI_63521\n",
      "Done: MVI_63525\n",
      "Done: MVI_63544\n",
      "Done: MVI_63552\n",
      "Done: MVI_63553\n",
      "Done: MVI_63554\n",
      "Done: MVI_63561\n",
      "Done: MVI_63562\n",
      "Done: MVI_63563\n"
     ]
    }
   ],
   "source": [
    "convert_all(xml_folder, images_folder_folder, coco_json_folder)"
   ]
  },
  {
   "cell_type": "code",
   "execution_count": 286,
   "metadata": {},
   "outputs": [
    {
     "name": "stdout",
     "output_type": "stream",
     "text": [
      "Added: MVI_20011\n",
      "Added: MVI_20012\n",
      "Added: MVI_20032\n",
      "Added: MVI_20033\n",
      "Added: MVI_20034\n",
      "Added: MVI_20035\n",
      "Added: MVI_20051\n",
      "Added: MVI_20052\n",
      "Added: MVI_20061\n",
      "Added: MVI_20062\n",
      "Added: MVI_20063\n",
      "Added: MVI_20064\n",
      "Added: MVI_20065\n",
      "Added: MVI_39761\n",
      "Added: MVI_39771\n",
      "Added: MVI_39781\n",
      "Added: MVI_39801\n",
      "Added: MVI_39811\n",
      "Added: MVI_39821\n",
      "Added: MVI_39851\n",
      "Added: MVI_39861\n",
      "Added: MVI_39931\n",
      "Added: MVI_40131\n",
      "Added: MVI_40141\n",
      "Added: MVI_40152\n",
      "Added: MVI_40161\n",
      "Added: MVI_40162\n",
      "Added: MVI_40171\n",
      "Added: MVI_40172\n",
      "Added: MVI_40181\n",
      "Added: MVI_40191\n",
      "Added: MVI_40192\n",
      "Added: MVI_40201\n",
      "Added: MVI_40204\n",
      "Added: MVI_40211\n",
      "Added: MVI_40212\n",
      "Added: MVI_40213\n",
      "Added: MVI_40241\n",
      "Added: MVI_40243\n",
      "Added: MVI_40244\n",
      "Added: MVI_40732\n",
      "Added: MVI_40751\n",
      "Added: MVI_40752\n",
      "Added: MVI_40871\n",
      "Added: MVI_40962\n",
      "Added: MVI_40963\n",
      "Added: MVI_40981\n",
      "Added: MVI_40991\n",
      "Added: MVI_40992\n",
      "Added: MVI_41063\n",
      "Added: MVI_41073\n",
      "Added: MVI_63521\n",
      "Added: MVI_63525\n",
      "Added: MVI_63544\n",
      "Added: MVI_63552\n",
      "Added: MVI_63553\n",
      "Added: MVI_63554\n",
      "Added: MVI_63561\n",
      "Added: MVI_63562\n",
      "Added: MVI_63563\n"
     ]
    }
   ],
   "source": [
    "big_js = combine_all(images_folder_folder, coco_json_folder)"
   ]
  },
  {
   "cell_type": "code",
   "execution_count": 154,
   "metadata": {},
   "outputs": [
    {
     "data": {
      "text/plain": [
       "<module 'numpy' from '/home/adam/.local/share/virtualenvs/data-I7nS9QO2/lib/python3.6/site-packages/numpy/__init__.py'>"
      ]
     },
     "execution_count": 154,
     "metadata": {},
     "output_type": "execute_result"
    }
   ],
   "source": [
    "np."
   ]
  },
  {
   "cell_type": "code",
   "execution_count": 151,
   "metadata": {},
   "outputs": [],
   "source": [
    "with open(\"/data/data/UA_DETRAC/train/annotations/all.json\", \"w\") as f:\n",
    "    json.dump(big_js, f)"
   ]
  },
  {
   "cell_type": "code",
   "execution_count": 138,
   "metadata": {},
   "outputs": [],
   "source": [
    "with open(\"/data/data/UA_DETRAC/train/annotations/MVI_20011.json\") as f:\n",
    "    js = json.load(f)"
   ]
  },
  {
   "cell_type": "code",
   "execution_count": 158,
   "metadata": {},
   "outputs": [
    {
     "data": {
      "text/plain": [
       "{'file_name': 'img00001.jpg',\n",
       " 'id': 2001100001,\n",
       " 'frame_num': 1,\n",
       " 'width': 960,\n",
       " 'height': 540}"
      ]
     },
     "execution_count": 158,
     "metadata": {},
     "output_type": "execute_result"
    }
   ],
   "source": [
    "js[\"images\"][0]"
   ]
  },
  {
   "cell_type": "code",
   "execution_count": 290,
   "metadata": {},
   "outputs": [
    {
     "name": "stdout",
     "output_type": "stream",
     "text": [
      "loading annotations into memory...\n",
      "Done (t=2.18s)\n",
      "creating index...\n",
      "index created!\n"
     ]
    }
   ],
   "source": [
    "data = mmdet.datasets.coco.CocoDataset(\"/data/data/UA_DETRAC/train/annotations/all_train.json\", \"/data/data/UA_DETRAC/train/images/\", [(1600, 400), (1600, 1400)], dict(\n",
    "    mean=[123.675, 116.28, 103.53], std=[58.395, 57.12, 57.375], to_rgb=True)\n",
    ")"
   ]
  },
  {
   "cell_type": "code",
   "execution_count": 292,
   "metadata": {
    "scrolled": true
   },
   "outputs": [],
   "source": [
    "for i in range(len(data)):\n",
    "    img_info = data.img_infos[i]\n",
    "    img = mmcv.imread(os.path.join(data.img_prefix, img_info['filename']))\n",
    "    \n",
    "    if img is None:\n",
    "        print(i, img_info)"
   ]
  },
  {
   "cell_type": "code",
   "execution_count": 275,
   "metadata": {},
   "outputs": [
    {
     "data": {
      "text/plain": [
       "42747"
      ]
     },
     "execution_count": 275,
     "metadata": {},
     "output_type": "execute_result"
    }
   ],
   "source": [
    "next(i for i in range(len(big_js[\"images\"])) if big_js[\"images\"][i][\"id\"] == 4021101387)"
   ]
  },
  {
   "cell_type": "code",
   "execution_count": 276,
   "metadata": {},
   "outputs": [
    {
     "data": {
      "text/plain": [
       "{'file_name': 'MVI_40211/img01387.jpg',\n",
       " 'id': 4021101387,\n",
       " 'frame_num': 1387,\n",
       " 'width': 960,\n",
       " 'height': 540}"
      ]
     },
     "execution_count": 276,
     "metadata": {},
     "output_type": "execute_result"
    }
   ],
   "source": [
    "big_js[\"images\"][42747]"
   ]
  },
  {
   "cell_type": "code",
   "execution_count": 291,
   "metadata": {},
   "outputs": [
    {
     "data": {
      "text/plain": [
       "57451"
      ]
     },
     "execution_count": 291,
     "metadata": {},
     "output_type": "execute_result"
    }
   ],
   "source": [
    "len(data)"
   ]
  },
  {
   "cell_type": "code",
   "execution_count": 288,
   "metadata": {},
   "outputs": [
    {
     "data": {
      "text/plain": [
       "[{'bbox': [326, 184, 80, 83],\n",
       "  'image_id': 2003500065,\n",
       "  'category_id': 3,\n",
       "  'iscrowd': 0,\n",
       "  'area': 6681,\n",
       "  'id': 2003500065004,\n",
       "  'segmentation': [[326, 184, 326, 266, 405, 266, 405, 184]]},\n",
       " {'bbox': [252, 164, 61, 64],\n",
       "  'image_id': 2003500065,\n",
       "  'category_id': 3,\n",
       "  'iscrowd': 0,\n",
       "  'area': 3967,\n",
       "  'id': 2003500065005,\n",
       "  'segmentation': [[252, 164, 252, 227, 312, 227, 312, 164]]},\n",
       " {'bbox': [340, 153, 60, 45],\n",
       "  'image_id': 2003500065,\n",
       "  'category_id': 3,\n",
       "  'iscrowd': 0,\n",
       "  'area': 2786,\n",
       "  'id': 2003500065006,\n",
       "  'segmentation': [[340, 153, 340, 197, 399, 197, 399, 153]]},\n",
       " {'bbox': [408, 93, 40, 40],\n",
       "  'image_id': 2003500065,\n",
       "  'category_id': 3,\n",
       "  'iscrowd': 0,\n",
       "  'area': 1649,\n",
       "  'id': 2003500065007,\n",
       "  'segmentation': [[408, 93, 408, 132, 447, 132, 447, 93]]}]"
      ]
     },
     "execution_count": 288,
     "metadata": {},
     "output_type": "execute_result"
    }
   ],
   "source": [
    "big_js[\"annotations\"][33870:33874]"
   ]
  },
  {
   "cell_type": "code",
   "execution_count": 287,
   "metadata": {},
   "outputs": [],
   "source": [
    "train_js, val_js, test_js = tvt_split(big_js)\n",
    "\n",
    "with open(\"/data/data/UA_DETRAC/train/annotations/all_train.json\", \"w\") as f:\n",
    "    json.dump(train_js, f)\n",
    "\n",
    "with open(\"/data/data/UA_DETRAC/train/annotations/all_val.json\", \"w\") as f:\n",
    "    json.dump(val_js, f)\n",
    "\n",
    "# with open(\"/data/data/UA_DETRAC/train/annotations/all_test.json\", \"w\") as f:\n",
    "#     json.dump(test_js, f)"
   ]
  },
  {
   "cell_type": "code",
   "execution_count": 168,
   "metadata": {
    "scrolled": true
   },
   "outputs": [
    {
     "data": {
      "text/plain": [
       "{'info': {},\n",
       " 'licenses': [],\n",
       " 'categories': [{'supercategory': 'person', 'id': 1, 'name': 'person'},\n",
       "  {'supercategory': 'vehicle', 'id': 2, 'name': 'bicycle'},\n",
       "  {'supercategory': 'vehicle', 'id': 3, 'name': 'car'},\n",
       "  {'supercategory': 'vehicle', 'id': 4, 'name': 'motorcycle'},\n",
       "  {'supercategory': 'vehicle', 'id': 5, 'name': 'airplane'},\n",
       "  {'supercategory': 'vehicle', 'id': 6, 'name': 'bus'},\n",
       "  {'supercategory': 'vehicle', 'id': 7, 'name': 'train'},\n",
       "  {'supercategory': 'vehicle', 'id': 8, 'name': 'truck'},\n",
       "  {'supercategory': 'vehicle', 'id': 9, 'name': 'boat'},\n",
       "  {'supercategory': 'outdoor', 'id': 10, 'name': 'traffic light'},\n",
       "  {'supercategory': 'outdoor', 'id': 11, 'name': 'fire hydrant'},\n",
       "  {'supercategory': 'outdoor', 'id': 13, 'name': 'stop sign'},\n",
       "  {'supercategory': 'outdoor', 'id': 14, 'name': 'parking meter'},\n",
       "  {'supercategory': 'outdoor', 'id': 15, 'name': 'bench'},\n",
       "  {'supercategory': 'animal', 'id': 16, 'name': 'bird'},\n",
       "  {'supercategory': 'animal', 'id': 17, 'name': 'cat'},\n",
       "  {'supercategory': 'animal', 'id': 18, 'name': 'dog'},\n",
       "  {'supercategory': 'animal', 'id': 19, 'name': 'horse'},\n",
       "  {'supercategory': 'animal', 'id': 20, 'name': 'sheep'},\n",
       "  {'supercategory': 'animal', 'id': 21, 'name': 'cow'},\n",
       "  {'supercategory': 'animal', 'id': 22, 'name': 'elephant'},\n",
       "  {'supercategory': 'animal', 'id': 23, 'name': 'bear'},\n",
       "  {'supercategory': 'animal', 'id': 24, 'name': 'zebra'},\n",
       "  {'supercategory': 'animal', 'id': 25, 'name': 'giraffe'},\n",
       "  {'supercategory': 'accessory', 'id': 27, 'name': 'backpack'},\n",
       "  {'supercategory': 'accessory', 'id': 28, 'name': 'umbrella'},\n",
       "  {'supercategory': 'accessory', 'id': 31, 'name': 'handbag'},\n",
       "  {'supercategory': 'accessory', 'id': 32, 'name': 'tie'},\n",
       "  {'supercategory': 'accessory', 'id': 33, 'name': 'suitcase'},\n",
       "  {'supercategory': 'sports', 'id': 34, 'name': 'frisbee'},\n",
       "  {'supercategory': 'sports', 'id': 35, 'name': 'skis'},\n",
       "  {'supercategory': 'sports', 'id': 36, 'name': 'snowboard'},\n",
       "  {'supercategory': 'sports', 'id': 37, 'name': 'sports ball'},\n",
       "  {'supercategory': 'sports', 'id': 38, 'name': 'kite'},\n",
       "  {'supercategory': 'sports', 'id': 39, 'name': 'baseball bat'},\n",
       "  {'supercategory': 'sports', 'id': 40, 'name': 'baseball glove'},\n",
       "  {'supercategory': 'sports', 'id': 41, 'name': 'skateboard'},\n",
       "  {'supercategory': 'sports', 'id': 42, 'name': 'surfboard'},\n",
       "  {'supercategory': 'sports', 'id': 43, 'name': 'tennis racket'},\n",
       "  {'supercategory': 'kitchen', 'id': 44, 'name': 'bottle'},\n",
       "  {'supercategory': 'kitchen', 'id': 46, 'name': 'wine glass'},\n",
       "  {'supercategory': 'kitchen', 'id': 47, 'name': 'cup'},\n",
       "  {'supercategory': 'kitchen', 'id': 48, 'name': 'fork'},\n",
       "  {'supercategory': 'kitchen', 'id': 49, 'name': 'knife'},\n",
       "  {'supercategory': 'kitchen', 'id': 50, 'name': 'spoon'},\n",
       "  {'supercategory': 'kitchen', 'id': 51, 'name': 'bowl'},\n",
       "  {'supercategory': 'food', 'id': 52, 'name': 'banana'},\n",
       "  {'supercategory': 'food', 'id': 53, 'name': 'apple'},\n",
       "  {'supercategory': 'food', 'id': 54, 'name': 'sandwich'},\n",
       "  {'supercategory': 'food', 'id': 55, 'name': 'orange'},\n",
       "  {'supercategory': 'food', 'id': 56, 'name': 'broccoli'},\n",
       "  {'supercategory': 'food', 'id': 57, 'name': 'carrot'},\n",
       "  {'supercategory': 'food', 'id': 58, 'name': 'hot dog'},\n",
       "  {'supercategory': 'food', 'id': 59, 'name': 'pizza'},\n",
       "  {'supercategory': 'food', 'id': 60, 'name': 'donut'},\n",
       "  {'supercategory': 'food', 'id': 61, 'name': 'cake'},\n",
       "  {'supercategory': 'furniture', 'id': 62, 'name': 'chair'},\n",
       "  {'supercategory': 'furniture', 'id': 63, 'name': 'couch'},\n",
       "  {'supercategory': 'furniture', 'id': 64, 'name': 'potted plant'},\n",
       "  {'supercategory': 'furniture', 'id': 65, 'name': 'bed'},\n",
       "  {'supercategory': 'furniture', 'id': 67, 'name': 'dining table'},\n",
       "  {'supercategory': 'furniture', 'id': 70, 'name': 'toilet'},\n",
       "  {'supercategory': 'electronic', 'id': 72, 'name': 'tv'},\n",
       "  {'supercategory': 'electronic', 'id': 73, 'name': 'laptop'},\n",
       "  {'supercategory': 'electronic', 'id': 74, 'name': 'mouse'},\n",
       "  {'supercategory': 'electronic', 'id': 75, 'name': 'remote'},\n",
       "  {'supercategory': 'electronic', 'id': 76, 'name': 'keyboard'},\n",
       "  {'supercategory': 'electronic', 'id': 77, 'name': 'cell phone'},\n",
       "  {'supercategory': 'appliance', 'id': 78, 'name': 'microwave'},\n",
       "  {'supercategory': 'appliance', 'id': 79, 'name': 'oven'},\n",
       "  {'supercategory': 'appliance', 'id': 80, 'name': 'toaster'},\n",
       "  {'supercategory': 'appliance', 'id': 81, 'name': 'sink'},\n",
       "  {'supercategory': 'appliance', 'id': 82, 'name': 'refrigerator'},\n",
       "  {'supercategory': 'indoor', 'id': 84, 'name': 'book'},\n",
       "  {'supercategory': 'indoor', 'id': 85, 'name': 'clock'},\n",
       "  {'supercategory': 'indoor', 'id': 86, 'name': 'vase'},\n",
       "  {'supercategory': 'indoor', 'id': 87, 'name': 'scissors'},\n",
       "  {'supercategory': 'indoor', 'id': 88, 'name': 'teddy bear'},\n",
       "  {'supercategory': 'indoor', 'id': 89, 'name': 'hair drier'},\n",
       "  {'supercategory': 'indoor', 'id': 90, 'name': 'toothbrush'}],\n",
       " 'images': [],\n",
       " 'annotations': []}"
      ]
     },
     "execution_count": 168,
     "metadata": {},
     "output_type": "execute_result"
    }
   ],
   "source": [
    "te"
   ]
  },
  {
   "cell_type": "code",
   "execution_count": 320,
   "metadata": {
    "scrolled": true
   },
   "outputs": [
    {
     "data": {
      "text/plain": [
       "[{'supercategory': 'person', 'id': 1, 'name': 'person'},\n",
       " {'supercategory': 'vehicle', 'id': 2, 'name': 'bicycle'},\n",
       " {'supercategory': 'vehicle', 'id': 3, 'name': 'car'},\n",
       " {'supercategory': 'vehicle', 'id': 4, 'name': 'motorcycle'},\n",
       " {'supercategory': 'vehicle', 'id': 5, 'name': 'airplane'},\n",
       " {'supercategory': 'vehicle', 'id': 6, 'name': 'bus'},\n",
       " {'supercategory': 'vehicle', 'id': 7, 'name': 'train'},\n",
       " {'supercategory': 'vehicle', 'id': 8, 'name': 'truck'},\n",
       " {'supercategory': 'vehicle', 'id': 9, 'name': 'boat'},\n",
       " {'supercategory': 'outdoor', 'id': 10, 'name': 'traffic light'},\n",
       " {'supercategory': 'outdoor', 'id': 11, 'name': 'fire hydrant'},\n",
       " {'supercategory': 'outdoor', 'id': 13, 'name': 'stop sign'},\n",
       " {'supercategory': 'outdoor', 'id': 14, 'name': 'parking meter'},\n",
       " {'supercategory': 'outdoor', 'id': 15, 'name': 'bench'},\n",
       " {'supercategory': 'animal', 'id': 16, 'name': 'bird'},\n",
       " {'supercategory': 'animal', 'id': 17, 'name': 'cat'},\n",
       " {'supercategory': 'animal', 'id': 18, 'name': 'dog'},\n",
       " {'supercategory': 'animal', 'id': 19, 'name': 'horse'},\n",
       " {'supercategory': 'animal', 'id': 20, 'name': 'sheep'},\n",
       " {'supercategory': 'animal', 'id': 21, 'name': 'cow'},\n",
       " {'supercategory': 'animal', 'id': 22, 'name': 'elephant'},\n",
       " {'supercategory': 'animal', 'id': 23, 'name': 'bear'},\n",
       " {'supercategory': 'animal', 'id': 24, 'name': 'zebra'},\n",
       " {'supercategory': 'animal', 'id': 25, 'name': 'giraffe'},\n",
       " {'supercategory': 'accessory', 'id': 27, 'name': 'backpack'},\n",
       " {'supercategory': 'accessory', 'id': 28, 'name': 'umbrella'},\n",
       " {'supercategory': 'accessory', 'id': 31, 'name': 'handbag'},\n",
       " {'supercategory': 'accessory', 'id': 32, 'name': 'tie'},\n",
       " {'supercategory': 'accessory', 'id': 33, 'name': 'suitcase'},\n",
       " {'supercategory': 'sports', 'id': 34, 'name': 'frisbee'},\n",
       " {'supercategory': 'sports', 'id': 35, 'name': 'skis'},\n",
       " {'supercategory': 'sports', 'id': 36, 'name': 'snowboard'},\n",
       " {'supercategory': 'sports', 'id': 37, 'name': 'sports ball'},\n",
       " {'supercategory': 'sports', 'id': 38, 'name': 'kite'},\n",
       " {'supercategory': 'sports', 'id': 39, 'name': 'baseball bat'},\n",
       " {'supercategory': 'sports', 'id': 40, 'name': 'baseball glove'},\n",
       " {'supercategory': 'sports', 'id': 41, 'name': 'skateboard'},\n",
       " {'supercategory': 'sports', 'id': 42, 'name': 'surfboard'},\n",
       " {'supercategory': 'sports', 'id': 43, 'name': 'tennis racket'},\n",
       " {'supercategory': 'kitchen', 'id': 44, 'name': 'bottle'},\n",
       " {'supercategory': 'kitchen', 'id': 46, 'name': 'wine glass'},\n",
       " {'supercategory': 'kitchen', 'id': 47, 'name': 'cup'},\n",
       " {'supercategory': 'kitchen', 'id': 48, 'name': 'fork'},\n",
       " {'supercategory': 'kitchen', 'id': 49, 'name': 'knife'},\n",
       " {'supercategory': 'kitchen', 'id': 50, 'name': 'spoon'},\n",
       " {'supercategory': 'kitchen', 'id': 51, 'name': 'bowl'},\n",
       " {'supercategory': 'food', 'id': 52, 'name': 'banana'},\n",
       " {'supercategory': 'food', 'id': 53, 'name': 'apple'},\n",
       " {'supercategory': 'food', 'id': 54, 'name': 'sandwich'},\n",
       " {'supercategory': 'food', 'id': 55, 'name': 'orange'},\n",
       " {'supercategory': 'food', 'id': 56, 'name': 'broccoli'},\n",
       " {'supercategory': 'food', 'id': 57, 'name': 'carrot'},\n",
       " {'supercategory': 'food', 'id': 58, 'name': 'hot dog'},\n",
       " {'supercategory': 'food', 'id': 59, 'name': 'pizza'},\n",
       " {'supercategory': 'food', 'id': 60, 'name': 'donut'},\n",
       " {'supercategory': 'food', 'id': 61, 'name': 'cake'},\n",
       " {'supercategory': 'furniture', 'id': 62, 'name': 'chair'},\n",
       " {'supercategory': 'furniture', 'id': 63, 'name': 'couch'},\n",
       " {'supercategory': 'furniture', 'id': 64, 'name': 'potted plant'},\n",
       " {'supercategory': 'furniture', 'id': 65, 'name': 'bed'},\n",
       " {'supercategory': 'furniture', 'id': 67, 'name': 'dining table'},\n",
       " {'supercategory': 'furniture', 'id': 70, 'name': 'toilet'},\n",
       " {'supercategory': 'electronic', 'id': 72, 'name': 'tv'},\n",
       " {'supercategory': 'electronic', 'id': 73, 'name': 'laptop'},\n",
       " {'supercategory': 'electronic', 'id': 74, 'name': 'mouse'},\n",
       " {'supercategory': 'electronic', 'id': 75, 'name': 'remote'},\n",
       " {'supercategory': 'electronic', 'id': 76, 'name': 'keyboard'},\n",
       " {'supercategory': 'electronic', 'id': 77, 'name': 'cell phone'},\n",
       " {'supercategory': 'appliance', 'id': 78, 'name': 'microwave'},\n",
       " {'supercategory': 'appliance', 'id': 79, 'name': 'oven'},\n",
       " {'supercategory': 'appliance', 'id': 80, 'name': 'toaster'},\n",
       " {'supercategory': 'appliance', 'id': 81, 'name': 'sink'},\n",
       " {'supercategory': 'appliance', 'id': 82, 'name': 'refrigerator'},\n",
       " {'supercategory': 'indoor', 'id': 84, 'name': 'book'},\n",
       " {'supercategory': 'indoor', 'id': 85, 'name': 'clock'},\n",
       " {'supercategory': 'indoor', 'id': 86, 'name': 'vase'},\n",
       " {'supercategory': 'indoor', 'id': 87, 'name': 'scissors'},\n",
       " {'supercategory': 'indoor', 'id': 88, 'name': 'teddy bear'},\n",
       " {'supercategory': 'indoor', 'id': 89, 'name': 'hair drier'},\n",
       " {'supercategory': 'indoor', 'id': 90, 'name': 'toothbrush'}]"
      ]
     },
     "execution_count": 320,
     "metadata": {},
     "output_type": "execute_result"
    }
   ],
   "source": [
    "big_js[\"categories\"]"
   ]
  },
  {
   "cell_type": "code",
   "execution_count": null,
   "metadata": {},
   "outputs": [],
   "source": []
  }
 ],
 "metadata": {
  "kernelspec": {
   "display_name": "Python3 - asgard",
   "language": "python",
   "name": "py3-fastai"
  },
  "language_info": {
   "codemirror_mode": {
    "name": "ipython",
    "version": 3
   },
   "file_extension": ".py",
   "mimetype": "text/x-python",
   "name": "python",
   "nbconvert_exporter": "python",
   "pygments_lexer": "ipython3",
   "version": "3.6.8"
  }
 },
 "nbformat": 4,
 "nbformat_minor": 2
}
