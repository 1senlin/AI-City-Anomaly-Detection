{
 "cells": [
  {
   "cell_type": "markdown",
   "metadata": {},
   "source": [
    "# https://github.com/ShuaiBai623/AI-City-Anomaly-Detection/blob/master/src/bg_modeling/get_ignore_area.py"
   ]
  },
  {
   "cell_type": "code",
   "execution_count": 19,
   "metadata": {},
   "outputs": [],
   "source": [
    "import skimage\n",
    "from skimage.measure import label \n",
    "from scipy.ndimage.filters import gaussian_filter\n",
    "import cv2 as cv\n",
    "import os\n",
    "import pandas as pd\n",
    "import numpy as np\n",
    "import re"
   ]
  },
  {
   "cell_type": "code",
   "execution_count": 2,
   "metadata": {},
   "outputs": [],
   "source": [
    "def load_video(filename):\n",
    "    # Loads a video with opencv, returns PIL Images for each frame\n",
    "    \n",
    "    vid = cv.VideoCapture(filename)\n",
    "\n",
    "    while vid.isOpened():\n",
    "        has_frame, img = vid.read()\n",
    "\n",
    "        if has_frame:\n",
    "            yield img\n",
    "        else:\n",
    "            break\n",
    "            \n",
    "    vid.release()\n",
    "    \n",
    "def get_video_shape(filename):\n",
    "    vid = cv.VideoCapture(filename)\n",
    "    _, img = vid.read()\n",
    "    vid.release()\n",
    "    \n",
    "    return img.shape"
   ]
  },
  {
   "cell_type": "code",
   "execution_count": 13,
   "metadata": {},
   "outputs": [],
   "source": [
    "def combine_boxes(fbf_bbox_df, img_height, img_width, score_threshold=0.1, normalize=True):\n",
    "    count_matrix = np.zeros((img_height, img_width))\n",
    "    for frame, df in fbf_bbox_df.groupby(\"frame\"):\n",
    "        tmp_score = np.zeros((img_height, img_width))\n",
    "\n",
    "        for x1, y1, x2, y2, score in df[[\"x1\", \"y1\", \"x2\", \"y2\", \"score\"]].values:\n",
    "            x1, y1, x2, y2 = map(int, (x1, y1, x2, y2))\n",
    "\n",
    "            if score > score_threshold:\n",
    "                tmp_score[y1:y2, x1:x2] = np.maximum(score, tmp_score[y1:y2, x1:x2])  # add all the boxes into one image\n",
    "\n",
    "        count_matrix += tmp_score\n",
    "\n",
    "    if normalize:\n",
    "        # scale to [0, 1]\n",
    "        count_matrix = (count_matrix - count_matrix.min()) / (count_matrix.max() - count_matrix.min())\n",
    "    \n",
    "    return count_matrix"
   ]
  },
  {
   "cell_type": "code",
   "execution_count": 4,
   "metadata": {},
   "outputs": [],
   "source": [
    "def get_connected_regions(mask, area_threshold=2000,):\n",
    "    regions = label(mask, connectivity = 1) # get connected regions\n",
    "    \n",
    "    for region_idx in np.unique(regions):\n",
    "        if region_idx == 0: # 0 is background\n",
    "            continue\n",
    "        \n",
    "        region_mask = regions == region_idx\n",
    "        if region_mask.sum() < area_threshold: # get rid of small regions\n",
    "            mask = np.where(region_mask, False, mask)\n",
    "            \n",
    "    return mask"
   ]
  },
  {
   "cell_type": "code",
   "execution_count": 15,
   "metadata": {},
   "outputs": [],
   "source": [
    "def create_ignore_mask(frame_by_frame_path, ignore_matrix_path, img_shape, count_threshold=0.08, area_threshold=2000, score_threshold=0.1, gaussian_sigma=3):\n",
    "    # Read in bboxes\n",
    "    fbf_bbox_df = pd.read_csv(frame_by_frame_path, header=None, \n",
    "                          names=[\"frame\", \"NA\", \"x1\", \"y1\", \"w\", \"h\", \"score\", \"NA1\", \"NA2\", \"NA3\"])\n",
    "    fbf_bbox_df[\"x2\"] = fbf_bbox_df[\"x1\"] + fbf_bbox_df[\"w\"]\n",
    "    fbf_bbox_df[\"y2\"] = fbf_bbox_df[\"y1\"] + fbf_bbox_df[\"h\"]\n",
    "    \n",
    "    # Combine bboxes\n",
    "    heatmap = combine_boxes(fbf_bbox_df, img_shape[0], img_shape[1], score_threshold)\n",
    "    \n",
    "    # Create ignore mask\n",
    "    mask = heatmap > count_threshold\n",
    "    mask = get_connected_regions(mask, area_threshold) \n",
    "    mask = gaussian_filter(mask.astype(float), gaussian_sigma) > count_threshold\n",
    "    \n",
    "    # Save ignore mask\n",
    "    np.save(ignore_matrix_path, mask)\n",
    "    "
   ]
  },
  {
   "cell_type": "code",
   "execution_count": 39,
   "metadata": {},
   "outputs": [],
   "source": [
    "def process_folder(frame_by_frame_folder, video_folder, ignore_matrix_folder):\n",
    "    \"\"\"\n",
    "    Both video and frame by frame results must exist for each case.\n",
    "    \"\"\"\n",
    "    \n",
    "    for fbf_filename in sorted(os.listdir(frame_by_frame_folder)):\n",
    "        match = re.match(\"^video(\\d+)\\.txt$\", fbf_filename) # video123.txt\n",
    "        if not match:\n",
    "            continue\n",
    "            \n",
    "        video_id = int(match.groups()[0])\n",
    "        video_path = os.path.join(video_folder, f\"{video_id}.mp4\")\n",
    "        frame_by_frame_path = os.path.join(frame_by_frame_folder, fbf_filename)\n",
    "        ignore_matrix_path = os.path.join(ignore_matrix_folder, f\"{video_id}.npy\")\n",
    "        \n",
    "        print(f\"Processing video {video_id}...\")\n",
    "        \n",
    "        img_shape = get_video_shape(video_path)\n",
    "        create_ignore_mask(frame_by_frame_path, ignore_matrix_path, img_shape)"
   ]
  },
  {
   "cell_type": "markdown",
   "metadata": {},
   "source": [
    "---"
   ]
  },
  {
   "cell_type": "code",
   "execution_count": 6,
   "metadata": {},
   "outputs": [],
   "source": [
    "frame_by_frame_folder = \"/data/aicity/winner_team/detection_results/test_framebyframe\"\n",
    "video_folder = \"/data/aicity/test/\"\n",
    "ignore_matrix_folder = \"/data/aicity/winner_team/detection_results/test_seg_masks\""
   ]
  },
  {
   "cell_type": "code",
   "execution_count": 38,
   "metadata": {},
   "outputs": [
    {
     "name": "stdout",
     "output_type": "stream",
     "text": [
      "Processing video 2...\n"
     ]
    }
   ],
   "source": [
    "process_folder(frame_by_frame_folder, video_folder, ignore_matrix_folder)"
   ]
  },
  {
   "cell_type": "code",
   "execution_count": null,
   "metadata": {},
   "outputs": [],
   "source": []
  }
 ],
 "metadata": {
  "kernelspec": {
   "display_name": "Python3 - asgard",
   "language": "python",
   "name": "py3-fastai"
  },
  "language_info": {
   "codemirror_mode": {
    "name": "ipython",
    "version": 3
   },
   "file_extension": ".py",
   "mimetype": "text/x-python",
   "name": "python",
   "nbconvert_exporter": "python",
   "pygments_lexer": "ipython3",
   "version": "3.6.8"
  }
 },
 "nbformat": 4,
 "nbformat_minor": 2
}
