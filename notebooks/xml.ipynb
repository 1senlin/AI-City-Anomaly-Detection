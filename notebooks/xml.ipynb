{
 "cells": [
  {
   "cell_type": "code",
   "execution_count": 16,
   "metadata": {},
   "outputs": [],
   "source": [
    "import xml.etree.ElementTree as ET\n",
    "import os\n",
    "import pandas as pd"
   ]
  },
  {
   "cell_type": "code",
   "execution_count": 5,
   "metadata": {},
   "outputs": [],
   "source": [
    "xml_folder = \"/data/data/UE_DETRAC/DETRAC-Train-Annotations-XML-v3\"\n",
    "csv_folder = \"/data/data/UE_DETRAC/annotations/train\""
   ]
  },
  {
   "cell_type": "code",
   "execution_count": 42,
   "metadata": {},
   "outputs": [],
   "source": [
    "def xml_to_csv(xml_path, csv_path):\n",
    "    \"\"\"\n",
    "    Parse UE-DETRAC annotations, turn them into csv\n",
    "    \n",
    "    \"\"\"\n",
    "    \n",
    "    tree = ET.parse(xml_path)\n",
    "    \n",
    "    boxes = []\n",
    "    for child in tree.getroot():\n",
    "        if child.tag != \"frame\":\n",
    "            continue\n",
    "\n",
    "        frame = int(child.attrib[\"num\"])\n",
    "\n",
    "        for target in child.find(\"target_list\").findall(\"target\"):\n",
    "            box = target.find(\"box\")\n",
    "\n",
    "            x1 = float(box.attrib[\"left\"])\n",
    "            y1 = float(box.attrib[\"top\"])\n",
    "            x2 = x1 + float(box.attrib[\"width\"])\n",
    "            y2 = y1 + float(box.attrib[\"height\"])\n",
    "\n",
    "            boxes.append([frame, x1, y1, x2, y2])\n",
    "\n",
    "    df = pd.DataFrame(boxes, columns=[\"frame\", \"x1\", \"y1\", \"x2\", \"y2\"])\n",
    "    \n",
    "    df.to_csv(csv_path, index=False)"
   ]
  },
  {
   "cell_type": "code",
   "execution_count": 52,
   "metadata": {},
   "outputs": [],
   "source": [
    "def convert_folder(xml_folder, csv_folder):\n",
    "    for xml_filename in sorted(os.listdir(xml_folder)):\n",
    "        csv_filename = os.path.splitext(xml_filename)[0] + \".csv\"\n",
    "        \n",
    "        xml_to_csv(os.path.join(xml_folder, xml_filename), os.path.join(csv_folder, csv_filename))\n",
    "    \n",
    "        print(\"Converted:\", xml_filename)"
   ]
  },
  {
   "cell_type": "code",
   "execution_count": 53,
   "metadata": {
    "scrolled": true
   },
   "outputs": [
    {
     "name": "stdout",
     "output_type": "stream",
     "text": [
      "Converted: MVI_20011_v3.xml\n",
      "Converted: MVI_20012_v3.xml\n",
      "Converted: MVI_20032_v3.xml\n",
      "Converted: MVI_20033_v3.xml\n",
      "Converted: MVI_20034_v3.xml\n",
      "Converted: MVI_20035_v3.xml\n",
      "Converted: MVI_20051_v3.xml\n",
      "Converted: MVI_20052_v3.xml\n",
      "Converted: MVI_20061_v3.xml\n",
      "Converted: MVI_20062_v3.xml\n",
      "Converted: MVI_20063_v3.xml\n",
      "Converted: MVI_20064_v3.xml\n",
      "Converted: MVI_20065_v3.xml\n",
      "Converted: MVI_39761_v3.xml\n",
      "Converted: MVI_39771_v3.xml\n",
      "Converted: MVI_39781_v3.xml\n",
      "Converted: MVI_39801_v3.xml\n",
      "Converted: MVI_39811_v3.xml\n",
      "Converted: MVI_39821_v3.xml\n",
      "Converted: MVI_39851_v3.xml\n",
      "Converted: MVI_39861_v3.xml\n",
      "Converted: MVI_39931_v3.xml\n",
      "Converted: MVI_40131_v3.xml\n",
      "Converted: MVI_40141_v3.xml\n",
      "Converted: MVI_40152_v3.xml\n",
      "Converted: MVI_40161_v3.xml\n",
      "Converted: MVI_40162_v3.xml\n",
      "Converted: MVI_40171_v3.xml\n",
      "Converted: MVI_40172_v3.xml\n",
      "Converted: MVI_40181_v3.xml\n",
      "Converted: MVI_40191_v3.xml\n",
      "Converted: MVI_40192_v3.xml\n",
      "Converted: MVI_40201_v3.xml\n",
      "Converted: MVI_40204_v3.xml\n",
      "Converted: MVI_40211_v3.xml\n",
      "Converted: MVI_40212_v3.xml\n",
      "Converted: MVI_40213_v3.xml\n",
      "Converted: MVI_40241_v3.xml\n",
      "Converted: MVI_40243_v3.xml\n",
      "Converted: MVI_40244_v3.xml\n",
      "Converted: MVI_40732_v3.xml\n",
      "Converted: MVI_40751_v3.xml\n",
      "Converted: MVI_40752_v3.xml\n",
      "Converted: MVI_40871_v3.xml\n",
      "Converted: MVI_40962_v3.xml\n",
      "Converted: MVI_40963_v3.xml\n",
      "Converted: MVI_40981_v3.xml\n",
      "Converted: MVI_40991_v3.xml\n",
      "Converted: MVI_40992_v3.xml\n",
      "Converted: MVI_41063_v3.xml\n",
      "Converted: MVI_41073_v3.xml\n",
      "Converted: MVI_63521_v3.xml\n",
      "Converted: MVI_63525_v3.xml\n",
      "Converted: MVI_63544_v3.xml\n",
      "Converted: MVI_63552_v3.xml\n",
      "Converted: MVI_63553_v3.xml\n",
      "Converted: MVI_63554_v3.xml\n",
      "Converted: MVI_63561_v3.xml\n",
      "Converted: MVI_63562_v3.xml\n",
      "Converted: MVI_63563_v3.xml\n"
     ]
    }
   ],
   "source": [
    "convert_folder(xml_folder, csv_folder)"
   ]
  },
  {
   "cell_type": "code",
   "execution_count": 50,
   "metadata": {},
   "outputs": [
    {
     "data": {
      "text/plain": [
       "'/data/data/UE_DETRAC/annotations/train'"
      ]
     },
     "execution_count": 50,
     "metadata": {},
     "output_type": "execute_result"
    }
   ],
   "source": [
    "csv_folder"
   ]
  },
  {
   "cell_type": "code",
   "execution_count": 51,
   "metadata": {},
   "outputs": [
    {
     "data": {
      "text/plain": [
       "('/data/data/UE_DETRAC/DETRAC-Train-Annotations-XML-v3', 'MVI_20011_v3.xml')"
      ]
     },
     "execution_count": 51,
     "metadata": {},
     "output_type": "execute_result"
    }
   ],
   "source": [
    "os.path.split(xml_file)"
   ]
  },
  {
   "cell_type": "code",
   "execution_count": null,
   "metadata": {},
   "outputs": [],
   "source": []
  }
 ],
 "metadata": {
  "kernelspec": {
   "display_name": "Python3 - asgard",
   "language": "python",
   "name": "py3-fastai"
  },
  "language_info": {
   "codemirror_mode": {
    "name": "ipython",
    "version": 3
   },
   "file_extension": ".py",
   "mimetype": "text/x-python",
   "name": "python",
   "nbconvert_exporter": "python",
   "pygments_lexer": "ipython3",
   "version": "3.6.8"
  }
 },
 "nbformat": 4,
 "nbformat_minor": 2
}
